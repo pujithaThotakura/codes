{
 "cells": [
  {
   "cell_type": "code",
   "execution_count": 1,
   "id": "4a4b30bf-cd50-42ca-953b-418b7915e40f",
   "metadata": {},
   "outputs": [
    {
     "name": "stdout",
     "output_type": "stream",
     "text": [
      "100\n",
      "this class\n"
     ]
    }
   ],
   "source": [
    "#constructor\n",
    "class abc():\n",
    "    a=100\n",
    "    def display(self):\n",
    "        print(\"this class\")\n",
    "obj=abc()\n",
    "print(obj.a)\n",
    "obj.display()"
   ]
  },
  {
   "cell_type": "code",
   "execution_count": 3,
   "id": "ac68b1e7-128a-455e-91e7-91edc9cd61da",
   "metadata": {},
   "outputs": [
    {
     "name": "stdout",
     "output_type": "stream",
     "text": [
      "this class\n",
      "value is: 10\n"
     ]
    }
   ],
   "source": [
    "#constructor using __init__\n",
    "class abc():\n",
    "    def __init__(self,val):\n",
    "        print(\"this class\")\n",
    "        self.val=val\n",
    "        print(\"value is:\",val)\n",
    "obj=abc(10)"
   ]
  },
  {
   "cell_type": "code",
   "execution_count": 5,
   "id": "b433ef1e-c59e-4a1b-a4a6-f1f1f9f13667",
   "metadata": {},
   "outputs": [
    {
     "name": "stdout",
     "output_type": "stream",
     "text": [
      "object: 10\n",
      "class var: 1\n",
      "object: 20\n",
      "class var: 2\n"
     ]
    }
   ],
   "source": [
    "#class obj variables\n",
    "class abc():\n",
    "    a=0\n",
    "    def __init__(self,var):\n",
    "        abc.a+=1\n",
    "        self.var=var\n",
    "        print(\"object:\",var)\n",
    "        print(\"class var:\",abc.a)\n",
    "obj=abc(10)\n",
    "obj=abc(20)\n"
   ]
  },
  {
   "cell_type": "code",
   "execution_count": 7,
   "id": "241b7b70-a06b-42c6-8ba6-a97514cb3adc",
   "metadata": {},
   "outputs": [
    {
     "name": "stdout",
     "output_type": "stream",
     "text": [
      "22 even\n"
     ]
    }
   ],
   "source": [
    "class number:\n",
    "    even=0\n",
    "    \n",
    "    def check(self,num):\n",
    "        if num%2==0:\n",
    "            self.even=1\n",
    "    def eo(self,num):\n",
    "        self.check(num)\n",
    "        if self.even==1:\n",
    "            print(num,\"even\")\n",
    "        else:\n",
    "            print(num,\"odd\")\n",
    "n1=number()\n",
    "n1.eo(22)"
   ]
  },
  {
   "cell_type": "code",
   "execution_count": 9,
   "id": "4dd29313-af72-4209-af8a-c86a7c827359",
   "metadata": {},
   "outputs": [
    {
     "name": "stdout",
     "output_type": "stream",
     "text": [
      "even [22]\n",
      "ods [31]\n"
     ]
    }
   ],
   "source": [
    "class number:\n",
    "    evens=[]\n",
    "    odds=[]\n",
    "    def __init__(self,num):\n",
    "        self.num=num\n",
    "        if num%2==0:\n",
    "            number.evens.append(num)\n",
    "        else:\n",
    "            number.odds.append(num)\n",
    "n1=number(22)\n",
    "n2=number(31)\n",
    "print(\"even\",number.evens)\n",
    "print(\"ods\",number.odds)\n"
   ]
  },
  {
   "cell_type": "code",
   "execution_count": 15,
   "id": "25e73607-4f86-4725-a114-af3bde5cc1c7",
   "metadata": {},
   "outputs": [
    {
     "name": "stdout",
     "output_type": "stream",
     "text": [
      "object: 10\n",
      "class var: 1\n",
      "object: 20\n",
      "class var: 2\n",
      "object is 20\n",
      "object is 10\n",
      "object is 20\n"
     ]
    }
   ],
   "source": [
    "#class obj variables\n",
    "class abc():\n",
    "    a=0\n",
    "    def __init__(self,var):\n",
    "        abc.a+=1\n",
    "        self.var=var\n",
    "        print(\"object:\",var)\n",
    "        print(\"class var:\",abc.a)\n",
    "    def __del__(self):\n",
    "        abc.a-=1\n",
    "        print(\"object is %d\"%self.var)\n",
    "obj1=abc(10)\n",
    "obj2=abc(20)\n",
    "del obj1\n",
    "del obj2"
   ]
  },
  {
   "cell_type": "code",
   "execution_count": 19,
   "id": "b9426b4d-8daa-47fd-8313-1921ab557f0c",
   "metadata": {},
   "outputs": [
    {
     "name": "stdout",
     "output_type": "stream",
     "text": [
      "the value stored in object is: 10\n",
      "the length of name stored in object is 6\n",
      "both values are equal\n"
     ]
    }
   ],
   "source": [
    "class abc():\n",
    "    def __init__(self,name,var):\n",
    "        self.name=name\n",
    "        self.var=var\n",
    "    def __repr__(self):\n",
    "        return repr(self.var)\n",
    "    def __len__(self):\n",
    "        return len(self.name)\n",
    "    def __cmp__(self,obj):\n",
    "        return self.var-obj.var\n",
    "obj=abc(\"abcdef\",10)\n",
    "print(\"the value stored in object is:\",repr(obj))\n",
    "print(\"the length of name stored in object is\",len(obj))\n",
    "obj=abc(\"ghijkl\",1)\n",
    "val=obj.__cmp__(obj)\n",
    "if val==0:\n",
    "    print(\"both values are equal\")\n",
    "elif val==-1:\n",
    "    print(\"first value is less than second\")\n",
    "else:\n",
    "    print(\"second value is less than first\")"
   ]
  },
  {
   "cell_type": "code",
   "execution_count": 25,
   "id": "ce9db546-611f-48e8-8929-793d04678d01",
   "metadata": {},
   "outputs": [
    {
     "name": "stdout",
     "output_type": "stream",
     "text": [
      "<__main__.numbers object at 0x00000221F6DE8BF0>\n",
      "[1, 2, 3, 10, 5]\n"
     ]
    }
   ],
   "source": [
    "class numbers:\n",
    "    def __init__(self,mylist):\n",
    "        self.mylist=mylist\n",
    "    def __getitem__(self,index):\n",
    "        return self.mylist[index]\n",
    "    def __setitem__(self,index,val):\n",
    "        self.mylist[index]=val\n",
    "numlist=numbers([1,2,3,4,5])\n",
    "print(numlist)\n",
    "numlist[3]=10\n",
    "print(numlist.mylist)"
   ]
  },
  {
   "cell_type": "code",
   "execution_count": null,
   "id": "733cda06-8408-42b5-8e90-891e40c726d7",
   "metadata": {},
   "outputs": [],
   "source": [
    "re"
   ]
  }
 ],
 "metadata": {
  "kernelspec": {
   "display_name": "Python 3 (ipykernel)",
   "language": "python",
   "name": "python3"
  },
  "language_info": {
   "codemirror_mode": {
    "name": "ipython",
    "version": 3
   },
   "file_extension": ".py",
   "mimetype": "text/x-python",
   "name": "python",
   "nbconvert_exporter": "python",
   "pygments_lexer": "ipython3",
   "version": "3.12.7"
  }
 },
 "nbformat": 4,
 "nbformat_minor": 5
}
