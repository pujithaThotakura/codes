{
 "cells": [
  {
   "cell_type": "code",
   "execution_count": 7,
   "id": "1abfc9f7-a43f-4abf-bff3-23e68080b717",
   "metadata": {},
   "outputs": [
    {
     "data": {
      "text/plain": [
       "'errors and exceptions\\ntypes of errors/exceptions\\ntry-blocks\\nexcept\\nfinally\\nraising exception \\nbuilt-in functions '"
      ]
     },
     "execution_count": 7,
     "metadata": {},
     "output_type": "execute_result"
    }
   ],
   "source": [
    "'''errors and exceptions\n",
    "types of errors/exceptions\n",
    "try-blocks\n",
    "except\n",
    "finally\n",
    "raising exception \n",
    "built-in functions '''\n",
    "\n"
   ]
  },
  {
   "cell_type": "code",
   "execution_count": 9,
   "id": "278d7d80-f976-4e64-90d8-c9f9be4d0215",
   "metadata": {},
   "outputs": [
    {
     "name": "stdin",
     "output_type": "stream",
     "text": [
      " 5\n"
     ]
    },
    {
     "name": "stdout",
     "output_type": "stream",
     "text": [
      "d\n"
     ]
    }
   ],
   "source": [
    "n=int(input())\n",
    "try:\n",
    "    if n//0:\n",
    "        print(n)\n",
    "except ZeroDivisionError:\n",
    "    print(\"d\")"
   ]
  },
  {
   "cell_type": "code",
   "execution_count": 11,
   "id": "56bdb528-5cbb-48d0-9108-965ff7392204",
   "metadata": {},
   "outputs": [
    {
     "ename": "ZeroDivisionError",
     "evalue": "division by zero",
     "output_type": "error",
     "traceback": [
      "\u001b[1;31m---------------------------------------------------------------------------\u001b[0m",
      "\u001b[1;31mZeroDivisionError\u001b[0m                         Traceback (most recent call last)",
      "Cell \u001b[1;32mIn[11], line 1\u001b[0m\n\u001b[1;32m----> 1\u001b[0m \u001b[38;5;241m5\u001b[39m\u001b[38;5;241m/\u001b[39m\u001b[38;5;241m0\u001b[39m\n",
      "\u001b[1;31mZeroDivisionError\u001b[0m: division by zero"
     ]
    }
   ],
   "source": [
    "5/0\n"
   ]
  },
  {
   "cell_type": "code",
   "execution_count": 13,
   "id": "bc6bd218-e75b-4033-abc4-c9951a9df707",
   "metadata": {},
   "outputs": [
    {
     "ename": "NameError",
     "evalue": "name 'v' is not defined",
     "output_type": "error",
     "traceback": [
      "\u001b[1;31m---------------------------------------------------------------------------\u001b[0m",
      "\u001b[1;31mNameError\u001b[0m                                 Traceback (most recent call last)",
      "Cell \u001b[1;32mIn[13], line 1\u001b[0m\n\u001b[1;32m----> 1\u001b[0m v\u001b[38;5;241m+\u001b[39m\u001b[38;5;241m10\u001b[39m\n",
      "\u001b[1;31mNameError\u001b[0m: name 'v' is not defined"
     ]
    }
   ],
   "source": [
    "v+10\n"
   ]
  },
  {
   "cell_type": "code",
   "execution_count": 19,
   "id": "a4486906-ee3f-427c-98c6-c7c08d3dfd23",
   "metadata": {},
   "outputs": [
    {
     "name": "stdin",
     "output_type": "stream",
     "text": [
      " 5\n",
      " 0\n"
     ]
    },
    {
     "name": "stdout",
     "output_type": "stream",
     "text": [
      "denominator cnt be zero\n"
     ]
    }
   ],
   "source": [
    "#handling zero division error\n",
    "n=int(input())\n",
    "denominator=int(input())\n",
    "try:\n",
    "    quotient=n/denominator\n",
    "    print(quotient)\n",
    "except ZeroDivisionError:\n",
    "    print(\"denominator cnt be zero\")"
   ]
  },
  {
   "cell_type": "code",
   "execution_count": 31,
   "id": "a6adff1f-d689-44a4-b769-8ab716db2478",
   "metadata": {},
   "outputs": [
    {
     "name": "stdin",
     "output_type": "stream",
     "text": [
      "  \n"
     ]
    },
    {
     "name": "stdout",
     "output_type": "stream",
     "text": [
      "please check before u enter..program\n",
      "bye\n"
     ]
    }
   ],
   "source": [
    "#multiple exception handling\n",
    "try:\n",
    "    n=int(input())\n",
    "    print(n**2)\n",
    "except(KeyboardInterrupt):\n",
    "    print(\"You have to enter a number....not string\")\n",
    "except (ValueError):\n",
    "    print(\"please check before u enter..program\")\n",
    "print(\"bye\")"
   ]
  },
  {
   "cell_type": "code",
   "execution_count": 37,
   "id": "ab21bb0c-9dd0-4dfc-8a40-33a793987d54",
   "metadata": {},
   "outputs": [
    {
     "name": "stdin",
     "output_type": "stream",
     "text": [
      " $#\n"
     ]
    },
    {
     "name": "stdout",
     "output_type": "stream",
     "text": [
      "You have to enter a number....not string\n",
      "bye\n"
     ]
    }
   ],
   "source": [
    "#muliple exception handling in a single block handling\n",
    "try:\n",
    "    n=int(input())\n",
    "    print(n**2)\n",
    "except(KeyboardInterrupt,ValueError,TypeError):\n",
    "    print(\"You have to enter a number....not string\")\n",
    "print(\"bye\")"
   ]
  },
  {
   "cell_type": "code",
   "execution_count": 43,
   "id": "aa4c2d3d-7b5d-42e7-8897-2e7c15d17a34",
   "metadata": {},
   "outputs": [
    {
     "name": "stdout",
     "output_type": "stream",
     "text": [
      "4\n",
      "even executing correctly ...eeption has occured\n"
     ]
    }
   ],
   "source": [
    "#raise an exception\n",
    "try:\n",
    "    n=4\n",
    "    print(n)\n",
    "    raise ValueError\n",
    "except:\n",
    "    print(\"even executing correctly ...exception has occured\")"
   ]
  },
  {
   "cell_type": "code",
   "execution_count": 45,
   "id": "8ecca6e0-f9bb-4f4d-a5e3-6c76f1709d69",
   "metadata": {},
   "outputs": [
    {
     "name": "stdout",
     "output_type": "stream",
     "text": [
      "re-raise\n"
     ]
    },
    {
     "ename": "NameError",
     "evalue": "",
     "output_type": "error",
     "traceback": [
      "\u001b[1;31m---------------------------------------------------------------------------\u001b[0m",
      "\u001b[1;31mNameError\u001b[0m                                 Traceback (most recent call last)",
      "Cell \u001b[1;32mIn[45], line 3\u001b[0m\n\u001b[0;32m      1\u001b[0m \u001b[38;5;66;03m#re-raise an error\u001b[39;00m\n\u001b[0;32m      2\u001b[0m \u001b[38;5;28;01mtry\u001b[39;00m:\n\u001b[1;32m----> 3\u001b[0m     \u001b[38;5;28;01mraise\u001b[39;00m \u001b[38;5;167;01mNameError\u001b[39;00m\n\u001b[0;32m      4\u001b[0m \u001b[38;5;28;01mexcept\u001b[39;00m:\n\u001b[0;32m      5\u001b[0m     \u001b[38;5;28mprint\u001b[39m(\u001b[38;5;124m\"\u001b[39m\u001b[38;5;124mre-raise\u001b[39m\u001b[38;5;124m\"\u001b[39m)\n",
      "\u001b[1;31mNameError\u001b[0m: "
     ]
    }
   ],
   "source": [
    "#re-raise an error\n",
    "try:\n",
    "    raise NameError\n",
    "except:\n",
    "    print(\"re-raise\")\n",
    "    raise"
   ]
  },
  {
   "cell_type": "code",
   "execution_count": 59,
   "id": "683e831b-e240-45b7-84c9-0e6e97c29d34",
   "metadata": {},
   "outputs": [
    {
     "name": "stdout",
     "output_type": "stream",
     "text": [
      "<class 'Exception'>\n",
      "('hi', 'students')\n",
      "('hi', 'students')\n",
      "assigned 1: hi\n",
      "assigned 2: students\n"
     ]
    }
   ],
   "source": [
    "#instance using in exceptions\n",
    "try:\n",
    "    raise Exception('hi','students')\n",
    "except Exception as errorObj:\n",
    "    print(type(errorObj))\n",
    "    print(errorObj.args)\n",
    "    print(errorObj)\n",
    "    x,y=errorObj.args\n",
    "    print(\"assigned 1:\",x)\n",
    "    print(\"assigned 2:\",y)"
   ]
  },
  {
   "cell_type": "code",
   "execution_count": 65,
   "id": "09194004-78d0-45ae-b956-2c5911b6a02b",
   "metadata": {},
   "outputs": [
    {
     "name": "stdin",
     "output_type": "stream",
     "text": [
      "numerator 5\n",
      "denominator 0\n"
     ]
    },
    {
     "name": "stdout",
     "output_type": "stream",
     "text": [
      "non-processed\n"
     ]
    }
   ],
   "source": [
    "#functions\n",
    "def div(n,d):\n",
    "    try:\n",
    "        q=n/d\n",
    "        print(q)\n",
    "    except ZeroDivisionError:\n",
    "        print(\"non-processed\")\n",
    "a=int(input(\"numerator\"))\n",
    "b=int(input(\"denominator\"))\n",
    "div(a,b)"
   ]
  },
  {
   "cell_type": "code",
   "execution_count": null,
   "id": "49268085-3c54-4fda-a8ad-39fb2eb1db62",
   "metadata": {},
   "outputs": [],
   "source": [
    "'''Exception-base class/all exceptions\n",
    "SystemExit-sys.exit()\n",
    "StandardError-except sys.exit()/StopItertion\n",
    "OverflowError-numeric type errors exceeds limit\n",
    "ArthimeticError-base class for all calculation\n",
    "FloatingPointError\n",
    "AssertionError\n",
    "AttributError\n",
    "IoError-import file error\n",
    "StopIterationError\n",
    "EOFError\n",
    "LookupError\n",
    "SyntaxError\n",
    "SystemError\n",
    "IndentationError\n",
    " '''"
   ]
  },
  {
   "cell_type": "code",
   "execution_count": 83,
   "id": "df479d87-0cab-4c6d-b556-5498376b5f6d",
   "metadata": {},
   "outputs": [
    {
     "name": "stdout",
     "output_type": "stream",
     "text": [
      "returned string is 99\n"
     ]
    }
   ],
   "source": [
    "class myError(Exception):\n",
    "    def __init__(self,value):\n",
    "        self.value=value\n",
    "    def __str__(self):\n",
    "        return repr(self.value)\n",
    "try:\n",
    "    raise myError(99)\n",
    "except myError as e:\n",
    "    print(\"returned string is\",e.value)\n",
    "    "
   ]
  },
  {
   "cell_type": "code",
   "execution_count": 85,
   "id": "974f367a-c208-4776-846b-a4626912c9e8",
   "metadata": {},
   "outputs": [
    {
     "name": "stdout",
     "output_type": "stream",
     "text": [
      "raise exception\n",
      "performing cleanup by finally\n"
     ]
    },
    {
     "ename": "ValueError",
     "evalue": "",
     "output_type": "error",
     "traceback": [
      "\u001b[1;31m---------------------------------------------------------------------------\u001b[0m",
      "\u001b[1;31mValueError\u001b[0m                                Traceback (most recent call last)",
      "Cell \u001b[1;32mIn[85], line 3\u001b[0m\n\u001b[0;32m      1\u001b[0m \u001b[38;5;28;01mtry\u001b[39;00m:\n\u001b[0;32m      2\u001b[0m     \u001b[38;5;28mprint\u001b[39m(\u001b[38;5;124m'\u001b[39m\u001b[38;5;124mraise exception\u001b[39m\u001b[38;5;124m'\u001b[39m)\n\u001b[1;32m----> 3\u001b[0m     \u001b[38;5;28;01mraise\u001b[39;00m \u001b[38;5;167;01mValueError\u001b[39;00m\n\u001b[0;32m      4\u001b[0m \u001b[38;5;28;01mfinally\u001b[39;00m:\n\u001b[0;32m      5\u001b[0m     \u001b[38;5;28mprint\u001b[39m(\u001b[38;5;124m\"\u001b[39m\u001b[38;5;124mperforming cleanup by finally\u001b[39m\u001b[38;5;124m\"\u001b[39m)\n",
      "\u001b[1;31mValueError\u001b[0m: "
     ]
    }
   ],
   "source": [
    "try:\n",
    "    print('raise exception')\n",
    "    raise ValueError\n",
    "finally:\n",
    "    print(\"performing cleanup by finally\")"
   ]
  },
  {
   "cell_type": "code",
   "execution_count": 89,
   "id": "e8404cf9-ce1b-48c4-8d69-8d6d71fb4529",
   "metadata": {},
   "outputs": [
    {
     "name": "stdout",
     "output_type": "stream",
     "text": [
      "abc\n",
      "123\n",
      "abc123\n"
     ]
    }
   ],
   "source": [
    "try:\n",
    "    print('abc') #raise exception\n",
    "    raise ValueError\n",
    "except:\n",
    "    print('123') #receive exception\n",
    "finally:\n",
    "    print(\"abc123\") #ignore process\n"
   ]
  },
  {
   "cell_type": "code",
   "execution_count": null,
   "id": "8dab8448-695a-44d0-8153-c8084bd0eebe",
   "metadata": {},
   "outputs": [
    {
     "name": "stdin",
     "output_type": "stream",
     "text": [
      "select an operation(1-8) 5\n",
      "enter 1st 5\n",
      "enter 2nd 2\n"
     ]
    },
    {
     "name": "stdout",
     "output_type": "stream",
     "text": [
      "result: 1.0\n"
     ]
    }
   ],
   "source": [
    "#interactive clac model with python operation\n",
    "'''using class exception modules'''\n",
    "class Calculator:\n",
    "    def __init__(self):\n",
    "        self.one=0\n",
    "        self.two=0\n",
    "    def input_numbers(self):\n",
    "        try:\n",
    "            self.one=float(input(\"enter 1st\"))\n",
    "            self.two=float(input(\"enter 2nd\"))\n",
    "        except ValueError:\n",
    "            print(\"invalid input...please enter numbers\")\n",
    "            self.input_numbers()\n",
    "    def add(self):\n",
    "        return self.one+self.two\n",
    "    def subtract(self):\n",
    "        return self.one-self.two\n",
    "    def multiply(self):\n",
    "        return self.one*self.two\n",
    "    def divide(self):\n",
    "        return self.one/self.two\n",
    "    def modulo(self):\n",
    "        return self.one%self.two\n",
    "    def expo(self):\n",
    "        return self.one**self.two\n",
    "    def floor_division(self):\n",
    "        return self.one//self.two\n",
    "def display_menu():\n",
    "    print(\"\\n ===calculator menu===\\n\")\n",
    "    print(\"1.Addition(+)\")\n",
    "    print(\"2.Subtract(-)\")\n",
    "    print(\"3.multiplication(*)\")\n",
    "    print(\"4.division(/)\")\n",
    "    print(\"5.Modulo\")\n",
    "    print(\"6.exponent\")\n",
    "    print(\"7.floor division\")\n",
    "    print(\"8.exit\")\n",
    "def main():\n",
    "    calc=Calculator()\n",
    "    while True:\n",
    "        display_menu\n",
    "        choice=input(\"select an operation(1-8)\")\n",
    "        if choice=='8':\n",
    "            print(\"exit\")\n",
    "            break\n",
    "        calc.input_numbers()\n",
    "        try:\n",
    "            if choice == \"1\":\n",
    "                print(\"result:\",calc.add())\n",
    "            elif choice==\"2\":\n",
    "                print(\"result:\",calc.subtract())\n",
    "            elif choice==\"3\":\n",
    "                print(\"result:\",calc.multiply())\n",
    "            elif choice==\"4\":\n",
    "                print(\"result:\",calc.divide())\n",
    "            elif choice==\"5\":\n",
    "                print(\"result:\",calc.modulo())\n",
    "            elif choice==\"6\":\n",
    "                print(\"result:\",calc.expo())\n",
    "            elif choice==\"7\":\n",
    "                print(\"result:\",calc.floor_division())\n",
    "            else:\n",
    "                print(\"invalid choice select from 1 to 8\")\n",
    "        except ZeroDivisionError as e:\n",
    "            print(\"Error :\",e)\n",
    "        except Exception as e:\n",
    "            print(\"unexpected error\",e)\n",
    "main()"
   ]
  },
  {
   "cell_type": "code",
   "execution_count": null,
   "id": "d40cd591-b605-4fd1-8706-2e522e2768ec",
   "metadata": {},
   "outputs": [],
   "source": []
  }
 ],
 "metadata": {
  "kernelspec": {
   "display_name": "Python 3 (ipykernel)",
   "language": "python",
   "name": "python3"
  },
  "language_info": {
   "codemirror_mode": {
    "name": "ipython",
    "version": 3
   },
   "file_extension": ".py",
   "mimetype": "text/x-python",
   "name": "python",
   "nbconvert_exporter": "python",
   "pygments_lexer": "ipython3",
   "version": "3.12.7"
  }
 },
 "nbformat": 4,
 "nbformat_minor": 5
}
