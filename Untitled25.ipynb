{
 "cells": [
  {
   "cell_type": "code",
   "execution_count": 1,
   "id": "62ac54ba-6fba-4dc8-8c09-bc29e3d1fe5a",
   "metadata": {},
   "outputs": [
    {
     "name": "stdout",
     "output_type": "stream",
     "text": [
      "from classes method,var 100\n"
     ]
    }
   ],
   "source": [
    "#private method usagecode \n",
    "class abc():\n",
    "    def __init__(self,var):\n",
    "        self.__var=var\n",
    "    def __display(self):\n",
    "        print(\"from classes method,var\",self.__var)\n",
    "obj=abc(100)\n",
    "obj._abc__display()"
   ]
  },
  {
   "cell_type": "code",
   "execution_count": 7,
   "id": "249a04b2-762b-404f-9c35-e28fa6bd27b3",
   "metadata": {},
   "outputs": [
    {
     "name": "stdout",
     "output_type": "stream",
     "text": [
      "a is: 15\n"
     ]
    }
   ],
   "source": [
    "#code to call method from another method in same class\n",
    "class abc():\n",
    "    def __init__(self,a):\n",
    "        self.a=a\n",
    "    def display(self):\n",
    "        print(\"a is:\",self.a)\n",
    "    def add_value(self):\n",
    "        self.a+=5\n",
    "        self.display()\n",
    "obj=abc(10)\n",
    "obj.add_value()"
   ]
  },
  {
   "cell_type": "code",
   "execution_count": 11,
   "id": "f8431a0f-d790-46c2-97dc-5b71ecbca768",
   "metadata": {},
   "outputs": [
    {
     "name": "stdout",
     "output_type": "stream",
     "text": [
      "var is  10\n",
      "var is  100\n"
     ]
    }
   ],
   "source": [
    "#class method,which calls a function defind global name space\n",
    "def b(x):\n",
    "    return x*10\n",
    "class a():\n",
    "    def __init__(self,var):\n",
    "        self.var=var\n",
    "    def display(self):\n",
    "        print(\"var is \",self.var)\n",
    "    def modify(self):\n",
    "        self.var=b(self.var)\n",
    "obj=a(10)\n",
    "obj.display()\n",
    "obj.modify()\n",
    "obj.display()"
   ]
  },
  {
   "cell_type": "code",
   "execution_count": 16,
   "id": "bac15d88-5ea8-4655-81bd-2a1765a1f5cb",
   "metadata": {},
   "outputs": [
    {
     "name": "stdout",
     "output_type": "stream",
     "text": [
      "var is : 10\n",
      "obj has attribute variable True\n",
      "after setting variable is  20\n",
      "new varible count is created with value 10\n"
     ]
    },
    {
     "ename": "AttributeError",
     "evalue": "'a' object has no attribute 'var'",
     "output_type": "error",
     "traceback": [
      "\u001b[1;31m---------------------------------------------------------------------------\u001b[0m",
      "\u001b[1;31mAttributeError\u001b[0m                            Traceback (most recent call last)",
      "Cell \u001b[1;32mIn[16], line 17\u001b[0m\n\u001b[0;32m     15\u001b[0m \u001b[38;5;28mprint\u001b[39m(\u001b[38;5;124m\"\u001b[39m\u001b[38;5;124mnew varible count is created with value\u001b[39m\u001b[38;5;124m\"\u001b[39m,obj\u001b[38;5;241m.\u001b[39mcount)\n\u001b[0;32m     16\u001b[0m \u001b[38;5;28mdelattr\u001b[39m(obj,\u001b[38;5;124m'\u001b[39m\u001b[38;5;124mvar\u001b[39m\u001b[38;5;124m'\u001b[39m)\n\u001b[1;32m---> 17\u001b[0m \u001b[38;5;28mprint\u001b[39m(\u001b[38;5;124m\"\u001b[39m\u001b[38;5;124mafter deleting\u001b[39m\u001b[38;5;124m\"\u001b[39m,obj\u001b[38;5;241m.\u001b[39mvar)\n",
      "\u001b[1;31mAttributeError\u001b[0m: 'a' object has no attribute 'var'"
     ]
    }
   ],
   "source": [
    "'''builtin functions -get set,delete\n",
    "getattr(),setattr()and deleteattr()'''\n",
    "class a():\n",
    "    def __init__(self,var):\n",
    "        self.var=var\n",
    "    def display(self):\n",
    "        print(\"var is :\",self.var)\n",
    "obj=a(10)\n",
    "obj.display()\n",
    "print(\"obj has attribute variable\",hasattr(obj,'var'))\n",
    "getattr(obj,'var')\n",
    "setattr(obj,'var',20)\n",
    "print(\"after setting variable is \",obj.var)\n",
    "setattr(obj,'count',10)\n",
    "print(\"new varible count is created with value\",obj.count)\n",
    "delattr(obj,'var')\n",
    "print(\"after deleting\",obj.var)\n",
    "\n"
   ]
  },
  {
   "cell_type": "code",
   "execution_count": 18,
   "id": "281b7f0c-74d4-480d-a94b-8aab42d44667",
   "metadata": {},
   "outputs": [
    {
     "name": "stdout",
     "output_type": "stream",
     "text": [
      "var1: 10\n",
      "var2: 12.345\n",
      "object.__dict__: {'v1': 10, 'v2': 12.345}\n",
      "object.__doc__: None\n",
      "class.__name__: abc\n",
      "object.__module__: __main__\n",
      "class.__bases__: (<class 'object'>,)\n"
     ]
    }
   ],
   "source": [
    "'''built-in class attr\n",
    "1. .__doc__--- when string doc is not specified no return of attr\n",
    "2. .__dict__namespace accesed attributes\n",
    "3. .__name__returns class attr's name\n",
    "4. .__module__\n",
    "5. .__bases__ inheritance\n",
    "'''\n",
    "class abc():\n",
    "    def __init__(self,v1,v2):\n",
    "        self.v1=v1\n",
    "        self.v2=v2\n",
    "    def display(self):\n",
    "        print(\"var1:\",self.v1)\n",
    "        print(\"var2:\",self.v2)\n",
    "obj=abc(10,12.345)\n",
    "obj.display()\n",
    "print(\"object.__dict__:\",obj.__dict__)\n",
    "print(\"object.__doc__:\",obj.__doc__)\n",
    "print(\"class.__name__:\",abc.__name__)\n",
    "print(\"object.__module__:\",obj.__module__)\n",
    "print(\"class.__bases__:\",abc.__bases__)\n",
    "\n",
    "\n"
   ]
  },
  {
   "cell_type": "code",
   "execution_count": 44,
   "id": "df589d09-a553-4410-b720-a792c93170c4",
   "metadata": {},
   "outputs": [
    {
     "name": "stdin",
     "output_type": "stream",
     "text": [
      "enter vijay marks in 1 subject 88\n",
      "enter vijay marks in 2 subject 88\n",
      "enter vijay marks in 3 subject 90\n",
      "enter anil marks in 1 subject 77\n",
      "enter anil marks in 2 subject 78\n",
      "enter anil marks in 3 subject 90\n"
     ]
    },
    {
     "name": "stdout",
     "output_type": "stream",
     "text": [
      "vijay got [88, 88, 90]\n",
      "anil got [77, 78, 90]\n"
     ]
    }
   ],
   "source": [
    "'''program that uses class as student to store the nae and marks of the student,use a list to store the marks of 3 subject constraints:\n",
    "1.take class as student\n",
    "2.create constructor for student name\n",
    "3.create a function for marks,to be entered manually with in that class function and add the marks to list\n",
    "4.display the student name and marks he/she got\n",
    "5.pass the objects attributes of two students names\n",
    "tc:\n",
    "obj1:\"vijay\"\n",
    "obj2:\"anil\"\n",
    "output:vijay got [88,88,90]\n",
    "       ajay got [77,78,90]'''\n",
    "class student():\n",
    " \n",
    "    def __init__(self,name):\n",
    "        self.name=name\n",
    "        self.marks=[]\n",
    "        \n",
    "    def entermarks(self):\n",
    "        for i in range(3):\n",
    "            m=int(input(\"enter %s marks in %d subject\"%(self.name,i+1)))\n",
    "            self.marks.append(m)\n",
    "    def display(self):\n",
    "        print(self.name,\"got\",self.marks)\n",
    "    \n",
    "s1=student(\"vijay\")\n",
    "s1.entermarks()\n",
    "s2=student(\"anil\")\n",
    "s2.entermarks()\n",
    "s1.display()\n",
    "s2.display()\n",
    "\n",
    "        \n",
    "       \n"
   ]
  },
  {
   "cell_type": "code",
   "execution_count": 46,
   "id": "a7c5293d-9e27-461d-89a3-d998afc689f4",
   "metadata": {},
   "outputs": [
    {
     "ename": "NameError",
     "evalue": "name 'area' is not defined",
     "output_type": "error",
     "traceback": [
      "\u001b[1;31m---------------------------------------------------------------------------\u001b[0m",
      "\u001b[1;31mNameError\u001b[0m                                 Traceback (most recent call last)",
      "Cell \u001b[1;32mIn[46], line 19\u001b[0m\n\u001b[0;32m     17\u001b[0m         \u001b[38;5;28mself\u001b[39m\u001b[38;5;241m.\u001b[39mradius\u001b[38;5;241m=\u001b[39mcircumference(\u001b[38;5;28mself\u001b[39m\u001b[38;5;241m.\u001b[39mvar)\n\u001b[0;32m     18\u001b[0m a\u001b[38;5;241m=\u001b[39mcircle(\u001b[38;5;241m7.5\u001b[39m)\n\u001b[1;32m---> 19\u001b[0m a\u001b[38;5;241m.\u001b[39mdisplay()\n",
      "Cell \u001b[1;32mIn[46], line 16\u001b[0m, in \u001b[0;36mcircle.display\u001b[1;34m(self)\u001b[0m\n\u001b[0;32m     15\u001b[0m \u001b[38;5;28;01mdef\u001b[39;00m \u001b[38;5;21mdisplay\u001b[39m(\u001b[38;5;28mself\u001b[39m):\n\u001b[1;32m---> 16\u001b[0m     \u001b[38;5;28mself\u001b[39m\u001b[38;5;241m.\u001b[39mradius\u001b[38;5;241m=\u001b[39marea(\u001b[38;5;28mself\u001b[39m\u001b[38;5;241m.\u001b[39mvar)\n\u001b[0;32m     17\u001b[0m     \u001b[38;5;28mself\u001b[39m\u001b[38;5;241m.\u001b[39mradius\u001b[38;5;241m=\u001b[39mcircumference(\u001b[38;5;28mself\u001b[39m\u001b[38;5;241m.\u001b[39mvar)\n",
      "\u001b[1;31mNameError\u001b[0m: name 'area' is not defined"
     ]
    }
   ],
   "source": [
    "'''program that has a class circle use a class variable to define the value of constant pi use this class variable to calculate the area the circumfernce\n",
    "of circle with specified radius\n",
    "constraint:\n",
    "pi with the class variable as 3.14159\n",
    "radius=7.5\n",
    "return area and circumfernce values to main program by creating function with in the class respectively'''\n",
    "class circle():\n",
    "    pi=3.14159\n",
    "    def __init__(self,radius):\n",
    "        self.radius=radius\n",
    "    def area(self):\n",
    "        return circle.pi*(self.radius**2)\n",
    "    def circumference(self):\n",
    "        return 2*circle.pi*self.radius\n",
    "    def display(self):\n",
    "        area_value = self.area()  \n",
    "        circumference_value = self.circumference()  \n",
    "        print(f\"Radius: {self.radius}\")\n",
    "        print(f\n",
    "a=circle(7.5)\n",
    "a.display()\n",
    "\n",
    "        "
   ]
  },
  {
   "cell_type": "code",
   "execution_count": null,
   "id": "fe3ced63-b708-42aa-9806-1a2c1b3af373",
   "metadata": {},
   "outputs": [],
   "source": [
    "\n"
   ]
  },
  {
   "cell_type": "code",
   "execution_count": null,
   "id": "cf107c72-b3dd-4c43-a0ed-6cb78941a45a",
   "metadata": {},
   "outputs": [],
   "source": []
  },
  {
   "cell_type": "code",
   "execution_count": null,
   "id": "7a9bfdbf-1823-4132-8f47-297d9477282b",
   "metadata": {},
   "outputs": [],
   "source": []
  },
  {
   "cell_type": "code",
   "execution_count": null,
   "id": "ff8a388a-a0a3-4b44-a32b-fecd523348c9",
   "metadata": {},
   "outputs": [],
   "source": []
  }
 ],
 "metadata": {
  "kernelspec": {
   "display_name": "Python 3 (ipykernel)",
   "language": "python",
   "name": "python3"
  },
  "language_info": {
   "codemirror_mode": {
    "name": "ipython",
    "version": 3
   },
   "file_extension": ".py",
   "mimetype": "text/x-python",
   "name": "python",
   "nbconvert_exporter": "python",
   "pygments_lexer": "ipython3",
   "version": "3.12.7"
  }
 },
 "nbformat": 4,
 "nbformat_minor": 5
}
