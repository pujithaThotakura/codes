{
 "cells": [
  {
   "cell_type": "code",
   "execution_count": 9,
   "id": "15efe3a2-56f8-4dd4-add0-61ab593a93c9",
   "metadata": {},
   "outputs": [
    {
     "name": "stdout",
     "output_type": "stream",
     "text": [
      "2\n",
      "1\n"
     ]
    }
   ],
   "source": [
    "#swap \n",
    "a=1\n",
    "b=2\n",
    "a=a+b\n",
    "b=a-b\n",
    "a=a-b\n",
    "print(a)\n",
    "print(b)"
   ]
  },
  {
   "cell_type": "code",
   "execution_count": 11,
   "id": "de5c9def-47b0-45a3-bbdd-67e814d531b0",
   "metadata": {},
   "outputs": [
    {
     "name": "stdout",
     "output_type": "stream",
     "text": [
      "2\n",
      "1\n"
     ]
    }
   ],
   "source": [
    "#swap using circumflex\n",
    "a=1\n",
    "b=2\n",
    "a=a^b\n",
    "b=b^a\n",
    "a=a^b\n",
    "print(a)\n",
    "print(b)"
   ]
  },
  {
   "cell_type": "code",
   "execution_count": 7,
   "id": "a893c974-8c90-4b90-a185-f66463764632",
   "metadata": {},
   "outputs": [
    {
     "name": "stdout",
     "output_type": "stream",
     "text": [
      "1\n",
      "2\n"
     ]
    }
   ],
   "source": [
    "#swap\n",
    "a=2\n",
    "b=1\n",
    "a,b=b,a\n",
    "print(a)\n",
    "print(b)"
   ]
  },
  {
   "cell_type": "code",
   "execution_count": 41,
   "id": "ee510fa0-6613-4c6a-865d-212e54467abd",
   "metadata": {},
   "outputs": [
    {
     "name": "stdout",
     "output_type": "stream",
     "text": [
      "1\n",
      "2\n"
     ]
    }
   ],
   "source": [
    "#swap 2numbers using conditional swap by logical and/or\n",
    "a=2\n",
    "b=1\n",
    "temp=a\n",
    "a=(a^b)&b\n",
    "b=(temp^b)&temp\n",
    "print(a)\n",
    "print(b)"
   ]
  },
  {
   "cell_type": "code",
   "execution_count": 51,
   "id": "c6c9ed16-e8ac-4aba-a427-be1d890fe1f0",
   "metadata": {},
   "outputs": [
    {
     "name": "stdout",
     "output_type": "stream",
     "text": [
      "0b11111\n"
     ]
    }
   ],
   "source": [
    "#convert into binary\n",
    "a=31\n",
    "b=bin(a)\n",
    "print(b)"
   ]
  },
  {
   "cell_type": "raw",
   "id": "a843136c-9fa8-44c8-810a-0f82f948d7f3",
   "metadata": {},
   "source": [
    "#convert into binary\n",
    "a=31\n",
    "b=bin(a)[2::]\n",
    "print(b)"
   ]
  },
  {
   "cell_type": "code",
   "execution_count": 54,
   "id": "4cdc3b5d-c693-467f-9c33-2da5ad627052",
   "metadata": {},
   "outputs": [
    {
     "name": "stdout",
     "output_type": "stream",
     "text": [
      "0111\n"
     ]
    }
   ],
   "source": [
    "#convert into binary\n",
    "a=31\n",
    "b=bin(a)[::2]\n",
    "print(b)"
   ]
  },
  {
   "cell_type": "code",
   "execution_count": 64,
   "id": "9296b80e-c756-4ef3-84a5-2e55111dda79",
   "metadata": {},
   "outputs": [
    {
     "name": "stdout",
     "output_type": "stream",
     "text": [
      "{2: 'a', 3: 'b'}\n"
     ]
    }
   ],
   "source": [
    "#swap using dictionary\n",
    "c={'a':2,'b':3}\n",
    "d={v: k for k, v in c.items()}\n",
    "print(d)\n",
    "\n",
    "\n"
   ]
  },
  {
   "cell_type": "code",
   "execution_count": 88,
   "id": "7e1ab7ef-b7f8-4847-9010-983e752ea19c",
   "metadata": {},
   "outputs": [
    {
     "name": "stdout",
     "output_type": "stream",
     "text": [
      "3 2\n",
      "1 1\n"
     ]
    }
   ],
   "source": [
    "#swap \n",
    "c={1:2,4:3}\n",
    "c[1],c[4]=c[4],c[1]\n",
    "print(c[1],c[4])\n"
   ]
  },
  {
   "cell_type": "code",
   "execution_count": 80,
   "id": "8f67354d-8cf7-4145-9ef7-7a4ab62425d3",
   "metadata": {},
   "outputs": [
    {
     "name": "stdout",
     "output_type": "stream",
     "text": [
      "[2, 1, 3, 4]\n"
     ]
    }
   ],
   "source": [
    "#swap\n",
    "#iter tool\n",
    "a=iter([1,2,3,4])\n",
    "b=list(a)\n",
    "b[0],b[1]=b[1],b[0]\n",
    "print(b)"
   ]
  },
  {
   "cell_type": "code",
   "execution_count": 134,
   "id": "05681a2f-8a02-4885-89c0-9b8b1cf9985c",
   "metadata": {},
   "outputs": [
    {
     "name": "stdout",
     "output_type": "stream",
     "text": [
      "12\n",
      "1\n"
     ]
    }
   ],
   "source": [
    "#bitwise\n",
    "a=6<<1\n",
    "b=6>>2\n",
    "print(a)\n",
    "print(b)"
   ]
  },
  {
   "cell_type": "code",
   "execution_count": 128,
   "id": "211acbc7-3e6a-4f5a-9fec-20ddc4117e03",
   "metadata": {},
   "outputs": [
    {
     "name": "stdout",
     "output_type": "stream",
     "text": [
      "[1, 4, 9, 16, 25, 36, 49, 64, 81, 100]\n"
     ]
    }
   ],
   "source": [
    "#program to print the sqaures of n numbers in a list using list comprehension\n",
    "n=10\n",
    "print([ i**2 for i in range(1,n+1)])\n"
   ]
  },
  {
   "cell_type": "code",
   "execution_count": 130,
   "id": "f14edf26-33b3-4a6d-b331-da51f6a40427",
   "metadata": {},
   "outputs": [
    {
     "name": "stdout",
     "output_type": "stream",
     "text": [
      "[4, 16, 36, 64, 100]\n"
     ]
    }
   ],
   "source": [
    "#even squares\n",
    "#program to print the sqaures of n numbers in a list using list comprehension\n",
    "n=10\n",
    "print([ i**2 for i in range(1,n+1) if i%2==0])"
   ]
  },
  {
   "cell_type": "code",
   "execution_count": null,
   "id": "a5739cb4-8e04-44a6-92c0-747f7b9c43a5",
   "metadata": {},
   "outputs": [],
   "source": []
  }
 ],
 "metadata": {
  "kernelspec": {
   "display_name": "Python 3 (ipykernel)",
   "language": "python",
   "name": "python3"
  },
  "language_info": {
   "codemirror_mode": {
    "name": "ipython",
    "version": 3
   },
   "file_extension": ".py",
   "mimetype": "text/x-python",
   "name": "python",
   "nbconvert_exporter": "python",
   "pygments_lexer": "ipython3",
   "version": "3.12.7"
  }
 },
 "nbformat": 4,
 "nbformat_minor": 5
}
