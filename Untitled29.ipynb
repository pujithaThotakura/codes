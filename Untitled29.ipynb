{
 "cells": [
  {
   "cell_type": "code",
   "execution_count": 15,
   "id": "d43b799f-0e40-40f9-9ec7-6ca9bd0a48ed",
   "metadata": {},
   "outputs": [
    {
     "name": "stdin",
     "output_type": "stream",
     "text": [
      " 5\n"
     ]
    },
    {
     "name": "stdout",
     "output_type": "stream",
     "text": [
      "A         \n",
      "A B       \n",
      "A B C     \n",
      "A B C D   \n",
      "A B C D E \n"
     ]
    }
   ],
   "source": [
    "n=int(input())\n",
    "for i in range(1,n+1):\n",
    "    for j in range(1,n+1):\n",
    "        if j>i:\n",
    "            print(' ',end=\" \")\n",
    "        else:\n",
    "            print(chr(j+64),end=\" \")\n",
    "    print()"
   ]
  },
  {
   "cell_type": "code",
   "execution_count": 22,
   "id": "c6dfe75a-33e0-4399-9f78-fbb13d1f3fcc",
   "metadata": {},
   "outputs": [
    {
     "name": "stdin",
     "output_type": "stream",
     "text": [
      " 5\n"
     ]
    },
    {
     "name": "stdout",
     "output_type": "stream",
     "text": [
      "A B C D E \n",
      "A B C D   \n",
      "A B C     \n",
      "A B       \n",
      "A         \n"
     ]
    }
   ],
   "source": [
    "n=int(input())\n",
    "for i in range(n,0,-1):\n",
    "    for j in range(1,n+1):\n",
    "        if j>i:\n",
    "            print(' ',end=\" \")\n",
    "        else:\n",
    "            print(chr(j+64),end=\" \")\n",
    "    print()"
   ]
  },
  {
   "cell_type": "code",
   "execution_count": 23,
   "id": "10aa7ecb-d57b-4aa6-9c4d-394b28e4c107",
   "metadata": {},
   "outputs": [
    {
     "name": "stdin",
     "output_type": "stream",
     "text": [
      " 5\n"
     ]
    },
    {
     "name": "stdout",
     "output_type": "stream",
     "text": [
      "E D C B A \n",
      "  D C B A \n",
      "    C B A \n",
      "      B A \n",
      "        A \n"
     ]
    }
   ],
   "source": [
    "n=int(input())\n",
    "for i in range(n,0,-1):\n",
    "    for j in range(n,0,-1):\n",
    "        if j>i:\n",
    "            print(' ',end=\" \")\n",
    "        else:\n",
    "            print(chr(j+64),end=\" \")\n",
    "    print()"
   ]
  },
  {
   "cell_type": "code",
   "execution_count": 24,
   "id": "c1da5386-1c37-4986-bd5f-a869be2ed57a",
   "metadata": {},
   "outputs": [
    {
     "name": "stdin",
     "output_type": "stream",
     "text": [
      " 5\n"
     ]
    },
    {
     "name": "stdout",
     "output_type": "stream",
     "text": [
      "        A \n",
      "      B A \n",
      "    C B A \n",
      "  D C B A \n",
      "E D C B A \n"
     ]
    }
   ],
   "source": [
    "n=int(input())\n",
    "for i in range(1,n+1):\n",
    "    for j in range(n,0,-1):\n",
    "        if j>i:\n",
    "            print(' ',end=\" \")\n",
    "        else:\n",
    "            print(chr(j+64),end=\" \")\n",
    "    print()"
   ]
  },
  {
   "cell_type": "code",
   "execution_count": 30,
   "id": "55a65b57-c6a4-45d7-bd78-bab0af6d7ddf",
   "metadata": {},
   "outputs": [
    {
     "name": "stdout",
     "output_type": "stream",
     "text": [
      "Radius: 7.5\n",
      "area:176.7144375\n",
      "circumference:47.12385\n"
     ]
    }
   ],
   "source": [
    "class circle():\n",
    "    pi=3.14159\n",
    "    def __init__(self,radius):\n",
    "        self.radius=radius\n",
    "    def area(self):\n",
    "        return circle.pi*(self.radius**2)\n",
    "    def circumference(self):\n",
    "        return 2*circle.pi*self.radius\n",
    "    def display(self):\n",
    "        area_value = self.area()  \n",
    "        circumference_value = self.circumference()  \n",
    "        print(f\"Radius: {self.radius}\")\n",
    "        print(f\"area:{area_value}\")\n",
    "        print(f\"circumference:{circumference_value}\")\n",
    "a=circle(7.5)\n",
    "a.display()\n"
   ]
  },
  {
   "cell_type": "code",
   "execution_count": 33,
   "id": "a2057b9d-4753-4302-846e-657145ad506c",
   "metadata": {},
   "outputs": [
    {
     "name": "stdin",
     "output_type": "stream",
     "text": [
      " 5\n"
     ]
    },
    {
     "name": "stdout",
     "output_type": "stream",
     "text": [
      "A \n",
      "A A \n",
      "A A A \n",
      "A A A A \n",
      "A A A A A \n"
     ]
    }
   ],
   "source": [
    "n=int(input())\n",
    "for i in range(1,n+1):\n",
    "    for j in range(i):\n",
    "        print('A',end=\" \")\n",
    "    print()"
   ]
  },
  {
   "cell_type": "code",
   "execution_count": 36,
   "id": "109377b4-855d-4621-90a1-da861c0f7075",
   "metadata": {},
   "outputs": [
    {
     "name": "stdin",
     "output_type": "stream",
     "text": [
      " 5\n"
     ]
    },
    {
     "name": "stdout",
     "output_type": "stream",
     "text": [
      "A \n",
      "B C \n",
      "D E F \n",
      "G H I J \n",
      "K L M N O \n"
     ]
    }
   ],
   "source": [
    "n=int(input())\n",
    "p=65\n",
    "for i in range(1,n+1):\n",
    "    for j in range(i):\n",
    "        print(chr(p),end=\" \")\n",
    "        p+=1\n",
    "    print()\n"
   ]
  },
  {
   "cell_type": "code",
   "execution_count": 38,
   "id": "e0f7d0d7-afc3-4066-b31d-4b7267ce3db4",
   "metadata": {},
   "outputs": [
    {
     "name": "stdin",
     "output_type": "stream",
     "text": [
      " 5\n"
     ]
    },
    {
     "name": "stdout",
     "output_type": "stream",
     "text": [
      "          A \n",
      "        B C \n",
      "      D E F \n",
      "    G H I J \n",
      "  K L M N O \n"
     ]
    }
   ],
   "source": [
    "n=int(input())\n",
    "p=65\n",
    "for i in range(1,n+1):\n",
    "    for j in range(i,n+1):\n",
    "        print(' ',end= \" \")\n",
    "    for j in range(i):\n",
    "        print(chr(p),end=\" \")\n",
    "        p+=1\n",
    "    print()\n"
   ]
  },
  {
   "cell_type": "code",
   "execution_count": 39,
   "id": "3b610690-1e77-4adc-9c10-743dbc3f1400",
   "metadata": {},
   "outputs": [
    {
     "name": "stdin",
     "output_type": "stream",
     "text": [
      " 5\n"
     ]
    },
    {
     "name": "stdout",
     "output_type": "stream",
     "text": [
      "  A B C D E \n",
      "    F G H I \n",
      "      J K L \n",
      "        M N \n",
      "          O \n"
     ]
    }
   ],
   "source": [
    "n=int(input())\n",
    "p=65\n",
    "for i in range(1,n+1):\n",
    "    for j in range(i):\n",
    "        print(' ',end= \" \")\n",
    "    for j in range(i,n+1):\n",
    "        print(chr(p),end=\" \")\n",
    "        p+=1\n",
    "    print()\n"
   ]
  },
  {
   "cell_type": "code",
   "execution_count": 41,
   "id": "27a3706f-2d9a-4ff9-b44f-4762c2d46faf",
   "metadata": {},
   "outputs": [
    {
     "name": "stdin",
     "output_type": "stream",
     "text": [
      " 5\n"
     ]
    },
    {
     "name": "stdout",
     "output_type": "stream",
     "text": [
      "          A \n",
      "        B B C \n",
      "      D D D E F \n",
      "    G G G G H I J \n",
      "  K K K K K L M N O \n"
     ]
    }
   ],
   "source": [
    "n=int(input())\n",
    "p=65\n",
    "for i in range(1,n+1):\n",
    "    for j in range(i,n+1):\n",
    "        print(' ',end= \" \")\n",
    "    for j in range(i-1):\n",
    "        print(chr(p),end=\" \")\n",
    "    for j in range(i):\n",
    "        print(chr(p),end=\" \")\n",
    "        p+=1\n",
    "    print()\n"
   ]
  },
  {
   "cell_type": "code",
   "execution_count": 44,
   "id": "7beadbeb-5661-41e2-b888-5d524713b493",
   "metadata": {},
   "outputs": [
    {
     "name": "stdin",
     "output_type": "stream",
     "text": [
      " 5\n"
     ]
    },
    {
     "name": "stdout",
     "output_type": "stream",
     "text": [
      "          A \n",
      "        B B B \n",
      "      C C C C C \n",
      "    D D D D D D D \n",
      "  E E E E E E E E E \n"
     ]
    }
   ],
   "source": [
    "n=int(input())\n",
    "p=65\n",
    "for i in range(1,n+1):\n",
    "    for j in range(i,n+1):\n",
    "        print(' ',end= \" \")\n",
    "    for j in range(i-1):\n",
    "        print(chr(p),end=\" \")\n",
    "    for j in range(i):\n",
    "        print(chr(p),end=\" \")\n",
    "    p+=1\n",
    "    print()\n"
   ]
  },
  {
   "cell_type": "code",
   "execution_count": 49,
   "id": "5bb20e2b-220d-4dc4-9c52-18a7fc424e56",
   "metadata": {},
   "outputs": [
    {
     "name": "stdin",
     "output_type": "stream",
     "text": [
      " 5\n"
     ]
    },
    {
     "name": "stdout",
     "output_type": "stream",
     "text": [
      "1 2 3 4 $ \n",
      "1 2 3 $ 5 \n",
      "1 2 $ 4 5 \n",
      "1 $ 3 4 5 \n",
      "$ 2 3 4 5 \n"
     ]
    }
   ],
   "source": [
    "n=int(input())\n",
    "for i in range(1,n+1):\n",
    "    for j in range(1,n+1):\n",
    "        if j==n-i+1:\n",
    "            print('$',end=\" \")\n",
    "        else:\n",
    "            print(j,end=\" \")\n",
    "    print()"
   ]
  },
  {
   "cell_type": "code",
   "execution_count": 52,
   "id": "b716bd02-7381-458c-9717-9564998f1427",
   "metadata": {},
   "outputs": [
    {
     "name": "stdin",
     "output_type": "stream",
     "text": [
      " 5\n"
     ]
    },
    {
     "name": "stdout",
     "output_type": "stream",
     "text": [
      "*1*2*\n",
      "3*4*5\n",
      "*6*7*\n",
      "8*9*10\n",
      "*11*12*\n"
     ]
    }
   ],
   "source": [
    "n=int(input())\n",
    "x=1\n",
    "for i in range(1,n+1):\n",
    "    for j in range(1,n+1):\n",
    "        if (i+j)%2==1:\n",
    "            print(f\"{x}\",end=\"\")\n",
    "            x+=1\n",
    "        else:\n",
    "            print(\"*\",end=\"\")\n",
    "    print()"
   ]
  },
  {
   "cell_type": "code",
   "execution_count": 59,
   "id": "842cc283-e6dc-463b-90bb-eba25bbe5416",
   "metadata": {},
   "outputs": [
    {
     "name": "stdout",
     "output_type": "stream",
     "text": [
      "x######\n",
      "#####xx\n",
      "xxx####\n",
      "###xxxx\n",
      "xxx####\n",
      "#####xx\n",
      "x######\n"
     ]
    }
   ],
   "source": [
    "n=7\n",
    "x=1\n",
    "for i in range(1,n+1):\n",
    "    for j in range(1,n+1):\n",
    "        if i%2==1 and j<=x:\n",
    "            print(\"x\",end=\"\")\n",
    "        elif i%2==0 and j>=n-x+1:\n",
    "            print(\"x\",end=\"\")\n",
    "        else:\n",
    "            print(\"#\",end=\"\")\n",
    "    print()\n",
    "    if i<=n//2:\n",
    "        x+=1\n",
    "    else:\n",
    "        x-=1"
   ]
  },
  {
   "cell_type": "code",
   "execution_count": 68,
   "id": "2dd16a8c-c3aa-42af-ab43-92f6cab40635",
   "metadata": {},
   "outputs": [
    {
     "name": "stdout",
     "output_type": "stream",
     "text": [
      "base class-2\n",
      "base class-1\n",
      "derived from both class\n"
     ]
    }
   ],
   "source": [
    "#multiple inheritance\n",
    "class base1(object):\n",
    "    def __init__(self):\n",
    "        super(base1,self).__init__()\n",
    "        print(\"base class-1\")\n",
    "class base2(object):\n",
    "    def __init__(self):\n",
    "        super(base2,self).__init__()\n",
    "        print(\"base class-2\")\n",
    "class derived(base1,base2):\n",
    "    def __init__(self):\n",
    "        super(derived,self).__init__()\n",
    "        print(\"derived from both class\")\n",
    "d=derived()"
   ]
  },
  {
   "cell_type": "code",
   "execution_count": 75,
   "id": "275eaf4f-bd09-4e85-a499-e3c0a1727d2c",
   "metadata": {},
   "outputs": [
    {
     "name": "stdout",
     "output_type": "stream",
     "text": [
      "1 \n",
      "1 * 2 \n",
      "1 * 2 * 3 \n",
      "1 * 2 * 3 * 4 \n",
      "1 * 2 * 3 * 4 * 5 \n"
     ]
    }
   ],
   "source": [
    "n=5\n",
    "for i in range(1,n+1):\n",
    "    for j in range(1,i+1):\n",
    "        print(j,end=\" \")\n",
    "        if j!=i:\n",
    "            print(\"*\",end=\" \")\n",
    "    print()"
   ]
  },
  {
   "cell_type": "code",
   "execution_count": 88,
   "id": "c8ace572-1040-4430-8c29-ddf5ee3d1529",
   "metadata": {},
   "outputs": [
    {
     "name": "stdin",
     "output_type": "stream",
     "text": [
      " 2\n",
      " 3\n"
     ]
    },
    {
     "name": "stdout",
     "output_type": "stream",
     "text": [
      "addition\n",
      "multi\n",
      "calc class\n",
      "sum 5\n",
      "product 6\n"
     ]
    }
   ],
   "source": [
    "'''initalize classes addition,multiplication in a calculator pass the values from main program to super class where the subclasses\n",
    "addition and multiplication were triggered and return the outputs respectively \n",
    "1.take derived class calc\n",
    "2.from derived class call subclasses add and mul\n",
    "3.return the values after math to the object\n",
    "4.manual values of f both numbers considered within the object'''\n",
    "class addition:\n",
    "    def __init__(self,a,b):\n",
    "        self.a=a\n",
    "        self.b=b\n",
    "        print(\"addition\")\n",
    "    def add(self):\n",
    "        return self.a+self.b\n",
    "class multiplication:\n",
    "    def __init__(self,a,b):\n",
    "        self.a=a\n",
    "        self.b=b\n",
    "        print(\"multi\")\n",
    "    def mul(self):\n",
    "        return self.a*self.b\n",
    "class calc(addition,multiplication):\n",
    "    def __init__(self,a,b):\n",
    "        addition.__init__(self,a,b)\n",
    "        multiplication.__init__(self,a,b)\n",
    "        print(\"calc class\")\n",
    "x=int(input())\n",
    "y=int(input())\n",
    "c=calc(x,y)\n",
    "print(\"sum\",c.add())\n",
    "print(\"product\",c.mul())\n",
    "        \n",
    "        "
   ]
  },
  {
   "cell_type": "code",
   "execution_count": 85,
   "id": "108d3344-3c67-4c05-a6e8-603cc036e3ef",
   "metadata": {},
   "outputs": [
    {
     "name": "stdout",
     "output_type": "stream",
     "text": [
      "1\n",
      "3 * 2\n",
      "4 * 5 * 6\n"
     ]
    }
   ],
   "source": [
    "n = 3 \n",
    "p = 1  \n",
    "for i in range(1, n + 1):\n",
    "    temp = []\n",
    "    for j in range(i):\n",
    "        temp.append(str(p))\n",
    "        p += 1\n",
    "    if i % 2 == 0:\n",
    "        temp.reverse()\n",
    "    print(\" * \".join(temp))"
   ]
  },
  {
   "cell_type": "code",
   "execution_count": 91,
   "id": "66b28ddf-fc75-4015-98d6-0f62035ba1a1",
   "metadata": {},
   "outputs": [
    {
     "name": "stdin",
     "output_type": "stream",
     "text": [
      " 2\n"
     ]
    },
    {
     "name": "stdout",
     "output_type": "stream",
     "text": [
      "addition\n",
      "multi\n",
      "sum 4\n",
      "product 8\n",
      "total 12\n"
     ]
    }
   ],
   "source": [
    "class addition:\n",
    "    def __init__(self,a):\n",
    "        self.a=a\n",
    "        print(\"addition\")\n",
    "    def add(self):\n",
    "        return self.a**2\n",
    "class multiplication:\n",
    "    def __init__(self,a):\n",
    "        self.a=a\n",
    "        print(\"multi\")\n",
    "    def mul(self):\n",
    "        return self.a**3\n",
    "class calc(addition,multiplication):\n",
    "    def __init__(self,a):\n",
    "        addition.__init__(self,a)\n",
    "        multiplication.__init__(self,a)\n",
    "    def total(self):\n",
    "        return self.add()+self.mul()\n",
    "        \n",
    "    \n",
    "x=int(input())\n",
    "\n",
    "c=calc(x)\n",
    "print(\"sum\",c.add())\n",
    "print(\"product\",c.mul())\n",
    "print(\"total\",c.total())\n",
    "        \n",
    "        "
   ]
  },
  {
   "cell_type": "code",
   "execution_count": 95,
   "id": "3975074d-654e-4c22-b0ce-ea98e85160b8",
   "metadata": {},
   "outputs": [
    {
     "name": "stdout",
     "output_type": "stream",
     "text": [
      "Name: John Doe\n",
      "Qualification: PhD\n",
      "Experience: 15 years\n"
     ]
    }
   ],
   "source": [
    "#multi level inheritance\n",
    "class Person:\n",
    "    def name(self):\n",
    "        print('Name: John Doe')\n",
    "\n",
    "class Teacher(Person):\n",
    "    def qualification(self):\n",
    "        print(\"Qualification: PhD\")\n",
    "\n",
    "class Hod(Teacher):  # Hod now inherits from Teacher, which already inherits Person\n",
    "    def exp(self):\n",
    "        print(\"Experience: 15 years\")\n",
    "\n",
    "# Creating an object of Hod class\n",
    "head = Hod()\n",
    "\n",
    "# Accessing methods from all levels of inheritance\n",
    "head.name()          # Inherited from Person class\n",
    "head.qualification() # Inherited from Teacher class\n",
    "head.exp()           # Defined in Hod class\n"
   ]
  },
  {
   "cell_type": "code",
   "execution_count": 103,
   "id": "27d9aff5-0c43-4c0d-b8b3-3ed30c13eec0",
   "metadata": {},
   "outputs": [
    {
     "name": "stdout",
     "output_type": "stream",
     "text": [
      "initialised\n",
      "sqaure 16\n",
      "cube 64\n"
     ]
    }
   ],
   "source": [
    "#multi leve; pf squares and cubes\n",
    "class num:\n",
    "    def __init__(self,n):\n",
    "        self.n=n\n",
    "        print(\"initialised\")\n",
    "class sq(num):\n",
    "    def sqaure(self):\n",
    "        return self.n**2\n",
    "class cu(sq):\n",
    "    def cube(self):\n",
    "        return self.n**3\n",
    "c=cu(4)\n",
    "print(\"sqaure\",c.sqaure())\n",
    "print(\"cube\",c.cube())"
   ]
  },
  {
   "cell_type": "code",
   "execution_count": 104,
   "id": "8509641b-18a2-44c8-bcb5-55736250855a",
   "metadata": {},
   "outputs": [
    {
     "name": "stdout",
     "output_type": "stream",
     "text": [
      "double: 8\n",
      "triple 12\n"
     ]
    }
   ],
   "source": [
    "#hieararchy\n",
    "\n",
    "\n",
    "\n",
    "class number:\n",
    "    def __init__(self,num):\n",
    "        self.num=num\n",
    "    def get_number(self):\n",
    "        return self.num\n",
    "class double(number):\n",
    "    def result(self):\n",
    "        return self.get_number()*2\n",
    "class triple(number):\n",
    "    def result(self):\n",
    "        return self.get_number()*3\n",
    "d=double(4)\n",
    "print(\"double:\",d.result())\n",
    "t=triple(4)\n",
    "print(\"triple\",t.result())"
   ]
  },
  {
   "cell_type": "code",
   "execution_count": 105,
   "id": "8a5fc851-213f-406f-9938-fbdfa28cdc25",
   "metadata": {},
   "outputs": [
    {
     "ename": "SyntaxError",
     "evalue": "invalid syntax (2797488473.py, line 18)",
     "output_type": "error",
     "traceback": [
      "\u001b[1;36m  Cell \u001b[1;32mIn[105], line 18\u001b[1;36m\u001b[0m\n\u001b[1;33m    retutn \"sour & sweet\"\u001b[0m\n\u001b[1;37m           ^\u001b[0m\n\u001b[1;31mSyntaxError\u001b[0m\u001b[1;31m:\u001b[0m invalid syntax\n"
     ]
    }
   ],
   "source": [
    "#abstraction\n",
    "class fruit:\n",
    "    def taste(self):\n",
    "        raise NotImplementedError()\n",
    "    def vitamin(self):\n",
    "        raise NotImplementedError()\n",
    "    def color(self):\n",
    "        raise NotImplementedError()\n",
    "class mango(fruit):\n",
    "    def taste(self):\n",
    "        return \"sweet\"\n",
    "    def vitamin(self):\n",
    "        return \"vitamin a\"\n",
    "    def color(self):\n",
    "        return \"yellow\"\n",
    "class orange(fruit):\n",
    "    def taste(self):\n",
    "        return \"sour & sweet\"\n",
    "    def vitamin(self):\n",
    "        return \"vitamin c\"\n",
    "    def color(self):\n",
    "        return \"orange\"\n",
    "alphanso=mango()\n",
    "print(alphanso.taste(),alphanso.vitamin(),alphanso.color())\n",
    "org=orange()\n",
    "print(org.taste(),org.vitamin(),org.color())"
   ]
  },
  {
   "cell_type": "code",
   "execution_count": null,
   "id": "bd047c34-2588-4773-b256-84bbc9590070",
   "metadata": {},
   "outputs": [],
   "source": []
  }
 ],
 "metadata": {
  "kernelspec": {
   "display_name": "Python 3 (ipykernel)",
   "language": "python",
   "name": "python3"
  },
  "language_info": {
   "codemirror_mode": {
    "name": "ipython",
    "version": 3
   },
   "file_extension": ".py",
   "mimetype": "text/x-python",
   "name": "python",
   "nbconvert_exporter": "python",
   "pygments_lexer": "ipython3",
   "version": "3.12.7"
  }
 },
 "nbformat": 4,
 "nbformat_minor": 5
}
