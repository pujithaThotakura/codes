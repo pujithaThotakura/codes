{
 "cells": [
  {
   "cell_type": "code",
   "execution_count": 19,
   "id": "11e404c4-627f-4f68-8794-fec7d704d86c",
   "metadata": {},
   "outputs": [
    {
     "name": "stdin",
     "output_type": "stream",
     "text": [
      " 4\n"
     ]
    },
    {
     "name": "stdout",
     "output_type": "stream",
     "text": [
      "1 3 9 27 "
     ]
    }
   ],
   "source": [
    "a=1\n",
    "b=1\n",
    "n=int(input())\n",
    "for i in range(1,n+1):\n",
    "    if n%2==0:\n",
    "        print(b,end=\" \")\n",
    "        b*=3\n",
    "    else:\n",
    "        print(a,nd=\" \")\n",
    "        a*=2\n"
   ]
  },
  {
   "cell_type": "code",
   "execution_count": 25,
   "id": "b0333960-7297-4726-8030-5f02d49275ad",
   "metadata": {},
   "outputs": [
    {
     "name": "stdin",
     "output_type": "stream",
     "text": [
      " 145\n"
     ]
    },
    {
     "name": "stdout",
     "output_type": "stream",
     "text": [
      "10\n",
      "20\n",
      "0 no\n"
     ]
    }
   ],
   "source": [
    "n=int(input())\n",
    "sum=0\n",
    "mul=1\n",
    "while n>0:\n",
    "    r=n%10\n",
    "    sum+=r\n",
    "    mul*=r\n",
    "    n//=10\n",
    "print(sum)\n",
    "print(mul)\n",
    "if sum==mul:\n",
    "    print(n,\"spy\")\n",
    "else:\n",
    "    print(n,\"no\")\n",
    "    \n",
    "    \n"
   ]
  },
  {
   "cell_type": "code",
   "execution_count": 37,
   "id": "ad3143a8-0083-40b4-aa8d-36dbeee577c5",
   "metadata": {},
   "outputs": [
    {
     "name": "stdin",
     "output_type": "stream",
     "text": [
      " 155\n"
     ]
    },
    {
     "name": "stdout",
     "output_type": "stream",
     "text": [
      "not\n"
     ]
    }
   ],
   "source": [
    "n=input()\n",
    "if n[0] == '0':\n",
    "    print(\"no\")\n",
    "elif '0' in n:\n",
    "    print(\"duck\")\n",
    "else:\n",
    "    print(\"not\")"
   ]
  },
  {
   "cell_type": "code",
   "execution_count": 41,
   "id": "06ae9c80-07a1-4b19-a3d4-7e72dd05e855",
   "metadata": {},
   "outputs": [
    {
     "name": "stdin",
     "output_type": "stream",
     "text": [
      " 8\n"
     ]
    },
    {
     "name": "stdout",
     "output_type": "stream",
     "text": [
      "no\n"
     ]
    }
   ],
   "source": [
    "n=int(input())\n",
    "sum=0\n",
    "squr=n*n\n",
    "while squr>0:\n",
    "    r=squr%10\n",
    "    sum+=r\n",
    "    squr//=10\n",
    "if sum==n:\n",
    "    print(\"neon\")\n",
    "else:\n",
    "    print(\"no\")\n",
    "    "
   ]
  },
  {
   "cell_type": "code",
   "execution_count": 50,
   "id": "561350c4-99a0-4f53-bcd6-8da2723a06ca",
   "metadata": {},
   "outputs": [
    {
     "name": "stdin",
     "output_type": "stream",
     "text": [
      " 5\n"
     ]
    },
    {
     "name": "stdout",
     "output_type": "stream",
     "text": [
      "atomorphic\n"
     ]
    }
   ],
   "source": [
    "n=int(input())\n",
    "s=n*n\n",
    "if str(s).endswith(str(n)):\n",
    "    print(\"atomorphic\")\n",
    "else:\n",
    "    print(\"no\")"
   ]
  },
  {
   "cell_type": "code",
   "execution_count": 72,
   "id": "da47c53e-5a38-415c-a415-d1d4cc2cf365",
   "metadata": {},
   "outputs": [
    {
     "name": "stdin",
     "output_type": "stream",
     "text": [
      " 12\n"
     ]
    },
    {
     "name": "stdout",
     "output_type": "stream",
     "text": [
      "adam\n"
     ]
    }
   ],
   "source": [
    "n=int(input())\n",
    "r=int(str(n)[::-1])\n",
    "sq=n*n\n",
    "sqr=r*r\n",
    "if int(str(sq)[::-1]) == sqr :\n",
    "    print(\"adam\")\n",
    "else:\n",
    "    print(\"no\")\n",
    "    "
   ]
  },
  {
   "cell_type": "code",
   "execution_count": 78,
   "id": "3e001199-f77c-4570-83a7-8e967e583c70",
   "metadata": {},
   "outputs": [
    {
     "name": "stderr",
     "output_type": "stream",
     "text": [
      "<>:2: SyntaxWarning: invalid decimal literal\n",
      "<>:2: SyntaxWarning: invalid decimal literal\n",
      "C:\\Users\\Dell\\AppData\\Local\\Temp\\ipykernel_6644\\772254243.py:2: SyntaxWarning: invalid decimal literal\n",
      "  print([i**3for i in range(1,n+1)])\n"
     ]
    },
    {
     "name": "stdin",
     "output_type": "stream",
     "text": [
      " 5\n"
     ]
    },
    {
     "name": "stdout",
     "output_type": "stream",
     "text": [
      "[1, 8, 27, 64, 125]\n"
     ]
    }
   ],
   "source": [
    "n=int(input())\n",
    "print([i**3 for i in range(1,n+1)])"
   ]
  },
  {
   "cell_type": "code",
   "execution_count": 84,
   "id": "24b58bd9-fc8a-4751-8012-4343dbf1ca93",
   "metadata": {},
   "outputs": [
    {
     "name": "stdin",
     "output_type": "stream",
     "text": [
      " 5\n"
     ]
    },
    {
     "name": "stdout",
     "output_type": "stream",
     "text": [
      "1 2 3 4 5 15\n"
     ]
    }
   ],
   "source": [
    "n=int(input())\n",
    "sum=0\n",
    "for i in range(1,n+1):\n",
    "    print(i,end=\" \")\n",
    "    sum+=i\n",
    "print(sum)"
   ]
  },
  {
   "cell_type": "code",
   "execution_count": 88,
   "id": "b4b978a8-59fb-4ec9-8f33-bfd3cb3c5cdd",
   "metadata": {},
   "outputs": [
    {
     "name": "stdin",
     "output_type": "stream",
     "text": [
      " 8\n"
     ]
    },
    {
     "name": "stdout",
     "output_type": "stream",
     "text": [
      "0 1 1 2 3 5 8 13 "
     ]
    }
   ],
   "source": [
    "n=int(input())\n",
    "a,b=0,1\n",
    "for i in range (1,n+1):\n",
    "    print(a,end=\" \")\n",
    "    a,b=b,a+b"
   ]
  },
  {
   "cell_type": "code",
   "execution_count": null,
   "id": "a7144eaf-d389-4b19-85fa-d0186560fa91",
   "metadata": {},
   "outputs": [],
   "source": []
  }
 ],
 "metadata": {
  "kernelspec": {
   "display_name": "Python [conda env:base] *",
   "language": "python",
   "name": "conda-base-py"
  },
  "language_info": {
   "codemirror_mode": {
    "name": "ipython",
    "version": 3
   },
   "file_extension": ".py",
   "mimetype": "text/x-python",
   "name": "python",
   "nbconvert_exporter": "python",
   "pygments_lexer": "ipython3",
   "version": "3.12.7"
  }
 },
 "nbformat": 4,
 "nbformat_minor": 5
}
